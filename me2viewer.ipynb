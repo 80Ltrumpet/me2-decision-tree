{
 "metadata": {
  "language_info": {
   "codemirror_mode": {
    "name": "ipython",
    "version": 3
   },
   "file_extension": ".py",
   "mimetype": "text/x-python",
   "name": "python",
   "nbconvert_exporter": "python",
   "pygments_lexer": "ipython3",
   "version": "3.9.1"
  },
  "orig_nbformat": 4,
  "kernelspec": {
   "name": "python3",
   "display_name": "Python 3.9.1 64-bit"
  },
  "interpreter": {
   "hash": "63fd5069d213b44bf678585dea6b12cceca9941eaf7f819626cde1f2670de90d"
  }
 },
 "nbformat": 4,
 "nbformat_minor": 2,
 "cells": [
  {
   "cell_type": "code",
   "execution_count": null,
   "source": [
    "import random\r\n",
    "from me2.dt import DecisionTree, describe_outcome, describe_traversal"
   ],
   "outputs": [],
   "metadata": {}
  },
  {
   "cell_type": "code",
   "execution_count": null,
   "source": [
    "dt = DecisionTree('me2.dat')\r\n",
    "print(sum(t[0] for t in dt.outcomes.values()), 'traversals')\r\n",
    "print(len(dt.outcomes), 'unique outcomes')"
   ],
   "outputs": [],
   "metadata": {}
  },
  {
   "cell_type": "code",
   "execution_count": null,
   "source": [
    "pair = random.choice(list(dt.outcomes.items()))\r\n",
    "print(f'{pair[0]:x}: ({pair[1][0]}) {pair[1][1]:x}')"
   ],
   "outputs": [],
   "metadata": {}
  },
  {
   "cell_type": "code",
   "execution_count": null,
   "source": [
    "print(describe_outcome(pair[0]))"
   ],
   "outputs": [],
   "metadata": {}
  },
  {
   "cell_type": "code",
   "execution_count": null,
   "source": [
    "print(describe_outcome(pair[0], full=True))"
   ],
   "outputs": [],
   "metadata": {}
  },
  {
   "cell_type": "code",
   "execution_count": null,
   "source": [
    "print(describe_traversal(pair))"
   ],
   "outputs": [],
   "metadata": {}
  },
  {
   "cell_type": "code",
   "execution_count": null,
   "source": [
    "# Some measure of progress...\r\n",
    "from me2.ally import RECRUITABLE, LOYALTY_MASK\r\n",
    "from me2.bits import bit_indices, ffs\r\n",
    "from itertools import combinations\r\n",
    "\r\n",
    "n_opt = dt.memo['N_OPT']\r\n",
    "recruits = tuple(i - ffs(RECRUITABLE.value) for i in bit_indices(dt.memo['RECRUITS']))\r\n",
    "combos = list(combinations(range(len(RECRUITABLE)), n_opt))\r\n",
    "print(f'{n_opt - 3}/4 -> ', end='')\r\n",
    "print(f'{combos.index(recruits)}/{len(combos) - 1} -> ', end='')\r\n",
    "print(f'{dt.memo[\"LOYALTY\"] & LOYALTY_MASK.value}/{LOYALTY_MASK.value}')"
   ],
   "outputs": [],
   "metadata": {}
  }
 ]
}